{
 "cells": [
  {
   "cell_type": "markdown",
   "metadata": {
    "collapsed": true
   },
   "source": [
    "Hypothesis function used for generating data is a quadratic function ax^2+bx+c.   a,b,c are chosen randomly within a range of (-5,5)."
   ]
  },
  {
   "cell_type": "code",
   "execution_count": 4,
   "metadata": {
    "collapsed": true
   },
   "outputs": [],
   "source": [
    "import pandas as pd\n",
    "import numpy as np\n",
    "import matplotlib.pyplot as plt\n",
    "x1=np.full(31,1)\n",
    "x0=np.full(31,1)\n",
    "rmse=np.full(10,1)\n",
    "for i in range(31):\n",
    "    x1[i]=i\n",
    "np.random.shuffle(x1)\n",
    "x=np.matrix([x1,x0])\n",
    "randcoeff=np.matrix(np.random.uniform(-5,5,3))\n",
    "y=np.matrix(randcoeff[0,0]*np.square(x1)+randcoeff[0,1]*x1+randcoeff[0,2])"
   ]
  },
  {
   "cell_type": "markdown",
   "metadata": {},
   "source": [
    "J is a variable used to separate the fraction of training data with total data. Varying from 0.1 to 1 it calculates root mean square error for each fraction to identify the optimum separation between training and test data."
   ]
  },
  {
   "cell_type": "code",
   "execution_count": null,
   "metadata": {
    "collapsed": true
   },
   "outputs": [],
   "source": [
    "j=0.1\n",
    "while j<1.0:\n",
    "    ytrain=y[0,0:int(len(x.transpose())*j)]\n",
    "    xtrain=x[:,0:int(len(x.transpose())*j)]\n",
    "    ytest=y[0,int(len(x.transpose())*j)+1:len(x.transpose())]\n",
    "    xtest=x[:,0:int(len(x.transpose())*j)+1:len(x.transpose())]"
   ]
  },
  {
   "cell_type": "markdown",
   "metadata": {},
   "source": [
    "Noise introduction is toggled by a parameter noise. It adds gaussian noise to the data depending on its standard deviation. Noise is added in the range (-σ,σ) randomly to each data point."
   ]
  },
  {
   "cell_type": "code",
   "execution_count": null,
   "metadata": {
    "collapsed": true
   },
   "outputs": [],
   "source": [
    "noise=1\n",
    "if noise==1:\n",
    "        stddeviation=y.std(1)\n",
    "        y=y+np.random.randint(-np.float(stddeviation),np.float(stddeviation),31)"
   ]
  },
  {
   "cell_type": "markdown",
   "metadata": {},
   "source": [
    "Finally gradient descent algorithm has been applied to the data to obtain the weights. Step size used is 0.0001. Convergence criteria required the difference in weights in successive iterations to be less than 0.0001."
   ]
  },
  {
   "cell_type": "code",
   "execution_count": null,
   "metadata": {
    "collapsed": true
   },
   "outputs": [],
   "source": [
    "weights=np.matrix([-1.0,-1.0])\n",
    "    weightsprev=weights*2\n",
    "    while np.linalg.norm(weights-weightsprev)>0.0001:\n",
    "        error=ytrain.transpose()-np.dot(xtrain.transpose(),weights.transpose())\n",
    "        cost=np.dot(error.transpose(),xtrain.transpose())\n",
    "        weightsprev=weights\n",
    "        weights=weights+cost*0.0001\n",
    "    if j==0.7:\n",
    "        print(weights)"
   ]
  },
  {
   "cell_type": "markdown",
   "metadata": {},
   "source": [
    "Finally the required data is plotted and results are output."
   ]
  },
  {
   "cell_type": "code",
   "execution_count": null,
   "metadata": {
    "collapsed": true
   },
   "outputs": [],
   "source": [
    "    rmse[int(10*j-1)]=np.array(np.linalg.norm(ytrain.transpose()-np.dot(xtrain.transpose(),weights.transpose())))\n",
    "    j=j+0.1\n",
    "plt.scatter(np.array(x[0,:]),np.array(y[0,:]))\n",
    "plt.plot([0,30],[weights[0,1],weights[0,0]*30+weights[0,1]])\n",
    "plt.show()\n",
    "plt.plot(rmse)\n",
    "plt.show"
   ]
  },
  {
   "cell_type": "markdown",
   "metadata": {},
   "source": [
    "Entire code for 1a is as follows."
   ]
  },
  {
   "cell_type": "code",
   "execution_count": 1,
   "metadata": {},
   "outputs": [
    {
     "name": "stdout",
     "output_type": "stream",
     "text": [
      "[[  93.64169744 -398.24629236]]\n"
     ]
    },
    {
     "data": {
      "image/png": "[encoded data removed]",
      "text/plain": [
       "<matplotlib.figure.Figure at 0x24bfb3b5f28>"
      ]
     },
     "metadata": {},
     "output_type": "display_data"
    },
    {
     "data": {
      "text/plain": [
       "<function matplotlib.pyplot.show>"
      ]
     },
     "execution_count": 1,
     "metadata": {},
     "output_type": "execute_result"
    }
   ],
   "source": [
    "import pandas as pd\n",
    "import numpy as np\n",
    "import matplotlib.pyplot as plt\n",
    "x1=np.full(31,1)\n",
    "x0=np.full(31,1)\n",
    "rmse=np.full(10,1)\n",
    "for i in range(31):\n",
    "    x1[i]=i\n",
    "np.random.shuffle(x1)\n",
    "x=np.matrix([x1,x0])\n",
    "randcoeff=np.matrix(np.random.uniform(-5,5,3))\n",
    "y=np.matrix(randcoeff[0,0]*np.square(x1)+randcoeff[0,1]*x1+randcoeff[0,2])\n",
    "j=0.1\n",
    "while j<1.0:\n",
    "    ytrain=y[0,0:int(len(x.transpose())*j)]\n",
    "    xtrain=x[:,0:int(len(x.transpose())*j)]\n",
    "    ytest=y[0,int(len(x.transpose())*j)+1:len(x.transpose())]\n",
    "    xtest=x[:,0:int(len(x.transpose())*j)+1:len(x.transpose())]\n",
    "    noise=1\n",
    "    if noise==0:\n",
    "        stddeviation=y.std(1)\n",
    "        y=y+np.random.randint(-np.float(stddeviation),np.float(stddeviation),31)\n",
    "    weights=np.matrix([-1.0,-1.0])\n",
    "    weightsprev=weights*2\n",
    "    while np.linalg.norm(weights-weightsprev)>0.0001:\n",
    "        error=ytrain.transpose()-np.dot(xtrain.transpose(),weights.transpose())\n",
    "        cost=np.dot(error.transpose(),xtrain.transpose())\n",
    "        weightsprev=weights\n",
    "        weights=weights+cost*0.0001\n",
    "    if j==0.7:\n",
    "        print(weights)\n",
    "    rmse[int(10*j-1)]=np.array(np.linalg.norm(ytrain.transpose()-np.dot(xtrain.transpose(),weights.transpose())))\n",
    "    j=j+0.1\n",
    "plt.scatter(np.array(x[0,:]),np.array(y[0,:]))\n",
    "plt.plot([0,30],[weights[0,1],weights[0,0]*30+weights[0,1]])\n",
    "plt.show()\n",
    "plt.plot(rmse)\n",
    "plt.show"
   ]
  },
  {
   "cell_type": "code",
   "execution_count": 2,
   "metadata": {},
   "outputs": [
    {
     "name": "stdout",
     "output_type": "stream",
     "text": [
      "Enter file addressC:\\\\Users\\\\srini\\\\OneDrive\\\\Academics\\\\ML courses\\\\ID 5030\\Assignments\\\\Assignment 1\\\\assignment1.csv\n",
      "[ 0.99793587  0.9212726   0.96006855 -0.12039315  0.9947399   0.97390739\n",
      "  0.99951544]\n"
     ]
    },
    {
     "data": {
      "image/png": "[encoded data removed]",
      "text/plain": [
       "<matplotlib.figure.Figure at 0x220af9b6d68>"
      ]
     },
     "metadata": {},
     "output_type": "display_data"
    }
   ],
   "source": [
    "import pandas as pd\n",
    "import numpy as np\n",
    "import matplotlib.pyplot as plt\n",
    "#rmse=np.full(10,1.0)\n",
    "rmse=1.0\n",
    "#for i in range(31):\n",
    "#    x1[i]=i\n",
    "path=input(\"Enter file address\")\n",
    "data = pd.read_csv(path)\n",
    "\"\"\"print(data)\"\"\"\n",
    "data=data.dropna()\n",
    "size=len(data.index)\n",
    "duplicate=np.full(size,1)\n",
    "x=data.iloc[:,2:9].values\n",
    "y=data.iloc[:,1].values\n",
    "np.random.shuffle(x)\n",
    "iteration=0\n",
    "j=0.7\n",
    "#while j<1.0:\n",
    "ytrain=y[0:int(len(x)*j)]\n",
    "xtrain=x[0:int(len(x)*j)]\n",
    "ytest=y[int(len(x)*j)+1:len(x)]\n",
    "xtest=x[int(len(x)*j)+1:len(x)]\n",
    "noise=1\n",
    "if noise==0:\n",
    "    stddeviation=y.std(1)\n",
    "    y=y+np.random.randint(-np.float(stddeviation),np.float(stddeviation),31)\n",
    "#print(y)\n",
    "weights=np.full(x.shape[1],1.0)\n",
    "weightsprev=weights*2\n",
    "while np.linalg.norm(weights-weightsprev)>0.0001:\n",
    "    error=ytrain-np.dot(xtrain,weights.transpose())\n",
    "    cost=np.dot(xtrain.transpose(),error)\n",
    "    weightsprev=weights\n",
    "    \"\"\"increment=np.dot(learnRate,cost.transpose())\"\"\"\n",
    "    weights=weights+cost*0.0000000001\n",
    "    rmse=np.linalg.norm(ytest-np.dot(xtest,weights.transpose()))\n",
    "    iteration=iteration+1\n",
    "    plt.scatter(iteration,rmse)\n",
    "#if j==0.7:\n",
    "print(weights)\n",
    "plt.show()\n",
    "    #j=j+0.1\n",
    "#plt.scatter(np.array(x[:]),np.array(y[:]))\n",
    "#plt.plot([0,30],[weights[0,1],weights[0,0]*30+weights[0,1]])\n",
    "#plt.show()\n",
    "#plt.plot(rmse)\n",
    "#plt.show"
   ]
  },
  {
   "cell_type": "code",
   "execution_count": null,
   "metadata": {
    "collapsed": true
   },
   "outputs": [],
   "source": []
  }
 ],
 "metadata": {
  "kernelspec": {
   "display_name": "Python 3",
   "language": "python",
   "name": "python3"
  },
  "language_info": {
   "codemirror_mode": {
    "name": "ipython",
    "version": 3
   },
   "file_extension": ".py",
   "mimetype": "text/x-python",
   "name": "python",
   "nbconvert_exporter": "python",
   "pygments_lexer": "ipython3",
   "version": "3.6.3"
  }
 },
 "nbformat": 4,
 "nbformat_minor": 2
}
