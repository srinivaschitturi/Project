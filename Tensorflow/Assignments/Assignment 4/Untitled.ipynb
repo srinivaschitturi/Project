{
 "cells": [
  {
   "cell_type": "markdown",
   "metadata": {},
   "source": [
    "Using LeNet Architecture for MNIST images classification using tensorflow.\n",
    "\n",
    "Initializing libraries and variables"
   ]
  },
  {
   "cell_type": "code",
   "execution_count": 10,
   "metadata": {},
   "outputs": [
    {
     "name": "stdout",
     "output_type": "stream",
     "text": [
      "Extracting MNIST_data\\train-images-idx3-ubyte.gz\n",
      "Extracting MNIST_data\\train-labels-idx1-ubyte.gz\n",
      "Extracting MNIST_data\\t10k-images-idx3-ubyte.gz\n",
      "Extracting MNIST_data\\t10k-labels-idx1-ubyte.gz\n"
     ]
    }
   ],
   "source": [
    "import tensorflow as tf\n",
    "import numpy as np\n",
    "from tensorflow.examples.tutorials.mnist import input_data\n",
    "mnist = input_data.read_data_sets(\"MNIST_data\", one_hot=True)\n",
    "\n",
    "val_file = mnist.validation.images\n",
    "val_labels = mnist.validation.labels\n",
    "eval_data = mnist.test.images\n",
    "eval_labels = np.asarray(mnist.test.labels, dtype=np.int32)\n",
    "input_layer = tf.placeholder(tf.float32,[None,784])\n",
    "input_labels = tf.placeholder(tf.int32,[None,10])\n",
    "train_file = tf.reshape(input_layer, [-1, 28, 28, 1])"
   ]
  },
  {
   "cell_type": "markdown",
   "metadata": {},
   "source": [
    "Convoluting, max pooling and operating images using fully connected networks. The resulting softmax values are optimized using mini batch gradient."
   ]
  },
  {
   "cell_type": "code",
   "execution_count": 11,
   "metadata": {},
   "outputs": [],
   "source": [
    "conv1 = tf.layers.conv2d(inputs=train_file,filters=6,kernel_size=[5, 5],padding=\"same\",activation=tf.nn.relu)\n",
    "pool1 = tf.layers.max_pooling2d(inputs=conv1, pool_size=[2, 2], strides=2)\n",
    "conv2 = tf.layers.conv2d(inputs=pool1,filters=16,kernel_size=[5, 5],padding=\"same\",activation=tf.nn.relu)\n",
    "pool2 = tf.layers.max_pooling2d(inputs=conv2, pool_size=[2, 2], strides=2)\n",
    "poolflat=tf.reshape(pool2, [-1,7*7*16])\n",
    "dense1=tf.layers.dense(poolflat,units=120,activation=tf.nn.relu,use_bias=True)\n",
    "dense2=tf.layers.dense(dense1,units=84,activation=tf.nn.relu,use_bias=True)\n",
    "dense3=tf.layers.dense(dense2,units=10,activation=tf.nn.relu,use_bias=True)\n",
    "loss = tf.nn.softmax_cross_entropy_with_logits_v2(labels=input_labels, logits=dense3)\n",
    "optimizer = tf.train.GradientDescentOptimizer(learning_rate=0.001).minimize(loss)"
   ]
  },
  {
   "cell_type": "markdown",
   "metadata": {},
   "source": [
    "Using validation data of MNIST the hyperparameters were varied to accurately fit the data. The optimal point was found to be at 125 data points per batch and a learning rate of 0.001. Finally accuracy is output on the test data. It was found to be 97%"
   ]
  },
  {
   "cell_type": "code",
   "execution_count": 12,
   "metadata": {},
   "outputs": [
    {
     "name": "stdout",
     "output_type": "stream",
     "text": [
      "0.9698\n"
     ]
    }
   ],
   "source": [
    "with tf.Session() as sess:\n",
    "    sess.run(tf.global_variables_initializer())\n",
    "    for i in range(440):\n",
    "        #print(i)\n",
    "        batch=mnist.train.next_batch(125)\n",
    "        data = batch[0]\n",
    "        labels = np.asarray(batch[1], dtype=np.int32)\n",
    "        sess.run(optimizer, feed_dict={input_layer:data, input_labels:labels})\n",
    "        \n",
    "    \n",
    "    correct_prediction = tf.equal(tf.argmax(dense3,1), tf.argmax(input_labels,1))\n",
    "    accuracy = tf.reduce_mean(tf.cast(correct_prediction,tf.float32))\n",
    "    print(sess.run(accuracy, feed_dict={input_layer:val_file, input_labels:val_labels}))"
   ]
  },
  {
   "cell_type": "code",
   "execution_count": 9,
   "metadata": {},
   "outputs": [
    {
     "name": "stdout",
     "output_type": "stream",
     "text": [
      "Extracting MNIST_data\\train-images-idx3-ubyte.gz\n",
      "Extracting MNIST_data\\train-labels-idx1-ubyte.gz\n",
      "Extracting MNIST_data\\t10k-images-idx3-ubyte.gz\n",
      "Extracting MNIST_data\\t10k-labels-idx1-ubyte.gz\n",
      "0.9716\n"
     ]
    }
   ],
   "source": [
    "import tensorflow as tf\n",
    "import numpy as np\n",
    "from tensorflow.examples.tutorials.mnist import input_data\n",
    "mnist = input_data.read_data_sets(\"MNIST_data\", one_hot=True)\n",
    "\n",
    "val_file = mnist.validation.images\n",
    "val_labels = mnist.validation.labels\n",
    "eval_data = mnist.test.images\n",
    "eval_labels = np.asarray(mnist.test.labels, dtype=np.int32)\n",
    "input_layer = tf.placeholder(tf.float32,[None,784])\n",
    "input_labels = tf.placeholder(tf.int32,[None,10])\n",
    "train_file = tf.reshape(input_layer, [-1, 28, 28, 1])\n",
    "conv1 = tf.layers.conv2d(inputs=train_file,filters=6,kernel_size=[5, 5],padding=\"same\",activation=tf.nn.relu)\n",
    "pool1 = tf.layers.max_pooling2d(inputs=conv1, pool_size=[2, 2], strides=2)\n",
    "conv2 = tf.layers.conv2d(inputs=pool1,filters=16,kernel_size=[5, 5],padding=\"same\",activation=tf.nn.relu)\n",
    "pool2 = tf.layers.max_pooling2d(inputs=conv2, pool_size=[2, 2], strides=2)\n",
    "poolflat=tf.reshape(pool2, [-1,7*7*16])\n",
    "dense1=tf.layers.dense(poolflat,units=120,activation=tf.nn.relu,use_bias=True)\n",
    "dense2=tf.layers.dense(dense1,units=84,activation=tf.nn.relu,use_bias=True)\n",
    "dense3=tf.layers.dense(dense2,units=10,activation=tf.nn.relu,use_bias=True)\n",
    "loss = tf.nn.softmax_cross_entropy_with_logits_v2(labels=input_labels, logits=dense3)\n",
    "optimizer = tf.train.GradientDescentOptimizer(learning_rate=0.001).minimize(loss)\n",
    "with tf.Session() as sess:\n",
    "    sess.run(tf.global_variables_initializer())\n",
    "    for i in range(440):\n",
    "        #print(i)\n",
    "        batch=mnist.train.next_batch(125)\n",
    "        data = batch[0]\n",
    "        labels = np.asarray(batch[1], dtype=np.int32)\n",
    "        sess.run(optimizer, feed_dict={input_layer:data, input_labels:labels})\n",
    "        \n",
    "    \n",
    "    correct_prediction = tf.equal(tf.argmax(dense3,1), tf.argmax(input_labels,1))\n",
    "    accuracy = tf.reduce_mean(tf.cast(correct_prediction,tf.float32))\n",
    "    print(sess.run(accuracy, feed_dict={input_layer:val_file, input_labels:val_labels}))"
   ]
  }
 ],
 "metadata": {
  "kernelspec": {
   "display_name": "Python 3",
   "language": "python",
   "name": "python3"
  },
  "language_info": {
   "codemirror_mode": {
    "name": "ipython",
    "version": 3
   },
   "file_extension": ".py",
   "mimetype": "text/x-python",
   "name": "python",
   "nbconvert_exporter": "python",
   "pygments_lexer": "ipython3",
   "version": "3.5.4"
  }
 },
 "nbformat": 4,
 "nbformat_minor": 2
}
