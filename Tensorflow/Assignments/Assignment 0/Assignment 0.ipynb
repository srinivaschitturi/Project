{
 "cells": [
  {
   "cell_type": "code",
   "execution_count": 1,
   "metadata": {},
   "outputs": [
    {
     "name": "stdout",
     "output_type": "stream",
     "text": [
      "Hello World!\n"
     ]
    }
   ],
   "source": [
    "import assignment0Q2"
   ]
  },
  {
   "cell_type": "code",
   "execution_count": 8,
   "metadata": {
    "collapsed": true
   },
   "outputs": [],
   "source": [
    "import assignment0Q3"
   ]
  },
  {
   "cell_type": "code",
   "execution_count": 3,
   "metadata": {},
   "outputs": [
    {
     "name": "stdout",
     "output_type": "stream",
     "text": [
      "1\n",
      "ping\n",
      "pong\n",
      "ping\n",
      "5\n",
      "pingpong\n",
      "7\n",
      "ping\n",
      "pong\n",
      "ping\n",
      "11\n",
      "pingpong\n",
      "13\n",
      "ping\n",
      "pong\n",
      "ping\n",
      "17\n",
      "pingpong\n",
      "19\n",
      "ping\n",
      "pong\n",
      "ping\n",
      "23\n",
      "pingpong\n",
      "25\n",
      "ping\n",
      "pong\n",
      "ping\n",
      "29\n",
      "pingpong\n",
      "31\n",
      "ping\n",
      "pong\n",
      "ping\n",
      "35\n",
      "pingpong\n",
      "37\n",
      "ping\n",
      "pong\n",
      "ping\n",
      "41\n",
      "pingpong\n",
      "43\n",
      "ping\n",
      "pong\n",
      "ping\n",
      "47\n",
      "pingpong\n",
      "49\n",
      "ping\n",
      "pong\n",
      "ping\n",
      "53\n",
      "pingpong\n",
      "55\n",
      "ping\n",
      "pong\n",
      "ping\n",
      "59\n",
      "pingpong\n",
      "61\n",
      "ping\n",
      "pong\n",
      "ping\n",
      "65\n",
      "pingpong\n",
      "67\n",
      "ping\n",
      "pong\n",
      "ping\n",
      "71\n",
      "pingpong\n",
      "73\n",
      "ping\n",
      "pong\n",
      "ping\n",
      "77\n",
      "pingpong\n",
      "79\n",
      "ping\n",
      "pong\n",
      "ping\n",
      "83\n",
      "pingpong\n",
      "85\n",
      "ping\n",
      "pong\n",
      "ping\n",
      "89\n",
      "pingpong\n",
      "91\n",
      "ping\n",
      "pong\n",
      "ping\n",
      "95\n",
      "pingpong\n",
      "97\n",
      "ping\n",
      "pong\n"
     ]
    }
   ],
   "source": [
    "import assignment0Q3"
   ]
  },
  {
   "cell_type": "code",
   "execution_count": 1,
   "metadata": {
    "collapsed": true
   },
   "outputs": [],
   "source": [
    "import numpy"
   ]
  },
  {
   "cell_type": "code",
   "execution_count": 2,
   "metadata": {
    "collapsed": true
   },
   "outputs": [],
   "source": [
    "import matplotlib"
   ]
  },
  {
   "cell_type": "code",
   "execution_count": 3,
   "metadata": {
    "collapsed": true
   },
   "outputs": [],
   "source": [
    "import pandas"
   ]
  },
  {
   "cell_type": "code",
   "execution_count": 4,
   "metadata": {},
   "outputs": [
    {
     "ename": "SyntaxError",
     "evalue": "Missing parentheses in call to 'print'. Did you mean print(numpy.__version__)? (<ipython-input-4-4bbb8acfb3f5>, line 1)",
     "output_type": "error",
     "traceback": [
      "\u001b[1;36m  File \u001b[1;32m\"<ipython-input-4-4bbb8acfb3f5>\"\u001b[1;36m, line \u001b[1;32m1\u001b[0m\n\u001b[1;33m    print numpy.__version__\u001b[0m\n\u001b[1;37m              ^\u001b[0m\n\u001b[1;31mSyntaxError\u001b[0m\u001b[1;31m:\u001b[0m Missing parentheses in call to 'print'. Did you mean print(numpy.__version__)?\n"
     ]
    }
   ],
   "source": [
    "print numpy.__version__"
   ]
  },
  {
   "cell_type": "code",
   "execution_count": 7,
   "metadata": {},
   "outputs": [
    {
     "name": "stdout",
     "output_type": "stream",
     "text": [
      "0.20.3\n"
     ]
    }
   ],
   "source": [
    "print(pandas.__version__)"
   ]
  },
  {
   "cell_type": "code",
   "execution_count": null,
   "metadata": {
    "collapsed": true
   },
   "outputs": [],
   "source": []
  }
 ],
 "metadata": {
  "kernelspec": {
   "display_name": "Python 3",
   "language": "python",
   "name": "python3"
  },
  "language_info": {
   "codemirror_mode": {
    "name": "ipython",
    "version": 3
   },
   "file_extension": ".py",
   "mimetype": "text/x-python",
   "name": "python",
   "nbconvert_exporter": "python",
   "pygments_lexer": "ipython3",
   "version": "3.6.3"
  }
 },
 "nbformat": 4,
 "nbformat_minor": 2
}
